{
  "nbformat": 4,
  "nbformat_minor": 0,
  "metadata": {
    "colab": {
      "provenance": [],
      "authorship_tag": "ABX9TyOhtXsqngesoNNGzVsz5jCB",
      "include_colab_link": true
    },
    "kernelspec": {
      "name": "python3",
      "display_name": "Python 3"
    },
    "language_info": {
      "name": "python"
    }
  },
  "cells": [
    {
      "cell_type": "markdown",
      "metadata": {
        "id": "view-in-github",
        "colab_type": "text"
      },
      "source": [
        "<a href=\"https://colab.research.google.com/github/bmz2503/BTE320/blob/main/In_Class_Assignments.ipynb\" target=\"_parent\"><img src=\"https://colab.research.google.com/assets/colab-badge.svg\" alt=\"Open In Colab\"/></a>"
      ]
    },
    {
      "cell_type": "markdown",
      "source": [
        "In Class Assignment 9/2"
      ],
      "metadata": {
        "id": "NbJQg0lTm2sO"
      }
    },
    {
      "cell_type": "code",
      "source": [
        "sales = float(input(\"Enter Sales ($): \"))\n",
        "cog = 0.4\n",
        "cog_sold = sales * cog\n",
        "print(f'Cog sold: ${cog_sold}')\n",
        "gross_profit = sales - (cog * Sales)\n",
        "print(f'Gross profit: ${gross_profit}')\n",
        "\n",
        "\n",
        "tax_rate = float(input('Enter Tax Rate: '))\n",
        "taxes = gross_profit * tax_rate\n",
        "print(f\"Taxes: ${taxes}\")\n",
        "\n",
        "Net_Income = gross_profit - taxes\n",
        "print(f\"Net Income:{Net_Income}\" )\n"
      ],
      "metadata": {
        "colab": {
          "base_uri": "https://localhost:8080/"
        },
        "id": "DH7Cwg3jbjG2",
        "outputId": "051a8d7f-8116-4319-cc04-c0a131ba46ba"
      },
      "execution_count": null,
      "outputs": [
        {
          "output_type": "stream",
          "name": "stdout",
          "text": [
            "Enter Sales ($): 12000\n",
            "Cog sold: $4800.0\n",
            "Gross profit: $7200.0\n",
            "Enter Tax Rate: .30\n",
            "Taxes: $2160.0\n",
            "Net Income:5040.0\n"
          ]
        }
      ]
    },
    {
      "cell_type": "markdown",
      "source": [
        "**In Class Assignement 9/4: Inventory Management**"
      ],
      "metadata": {
        "id": "gAQIquLCnAHU"
      }
    },
    {
      "cell_type": "code",
      "source": [
        "# Define inputs\n",
        "D = int(input(\"Enter Annual Demand (units/year):\"))\n",
        "S = float(input(\"Enter Reorder Cost ($/unit):\"))\n",
        "H = float(input(\"Enter Holding Cost ($/unit/year):\"))\n",
        "\n",
        "# process Calulate EOQ\n",
        "EOQ = float(((2*D*S/H)**.5))\n",
        "\n",
        "# Output: Display EOQ Value\n",
        "print(f\"Economic order Quantity = {EOQ} units\")"
      ],
      "metadata": {
        "colab": {
          "base_uri": "https://localhost:8080/"
        },
        "id": "jWLgp0JwnCoQ",
        "outputId": "d89f160d-ca82-4b5c-b276-4e8625b55fbe"
      },
      "execution_count": null,
      "outputs": [
        {
          "output_type": "stream",
          "name": "stdout",
          "text": [
            "Enter Annual Demand (units/year):100\n",
            "Enter Reorder Cost ($/unit):1.5\n",
            "Enter Holding Cost ($/unit/year):3\n",
            "Economic order Quantity = 10.0 units\n"
          ]
        }
      ]
    },
    {
      "cell_type": "markdown",
      "source": [
        "**In Class Assignment 9/11: Numerical Calculator**"
      ],
      "metadata": {
        "id": "WInGovW4qouS"
      }
    },
    {
      "cell_type": "code",
      "source": [
        "X = float(input('Enter 1st Number:'))\n",
        "Y = float(input('Enter 2nd Number: '))\n",
        "OP = input('Choose numerical operator (+,-,*,/,//,**,%):')\n",
        "\n",
        "if OP == '+':\n",
        "  print(X + Y)\n",
        "if OP == '-':\n",
        "  print(X - Y)\n",
        "if OP == '*':\n",
        "  print(X * Y)\n",
        "if OP == '/':\n",
        "  print(X / Y)\n",
        "if OP == '//':\n",
        "  print(X // Y)\n",
        "if OP == '**':\n",
        "  print( X ** Y)\n",
        "else:\n",
        "  print('Invalid Operator')"
      ],
      "metadata": {
        "id": "LnxgThJsqn6M"
      },
      "execution_count": null,
      "outputs": []
    },
    {
      "cell_type": "markdown",
      "source": [
        "**In Class Assignment 9/16:**"
      ],
      "metadata": {
        "id": "Q-Fkrs6sb1pW"
      }
    },
    {
      "cell_type": "code",
      "source": [
        "print('# of Hours\\tFee')\n",
        "for hours in range(1,9):\n",
        "  fee = 5 + hours * 2.5\n",
        "  if fee < 10:\n",
        "    fee = 10.0\n",
        "    print(f\"{hours}\\t\\t{fee}\")\n",
        "  elif fee > 20:\n",
        "    fee = 20.0\n",
        "    print(f\"{hours}\\t\\t{fee}\")\n",
        "  else:\n",
        "    print(f\"{hours}\\t\\t{fee}\")\n",
        "\n"
      ],
      "metadata": {
        "colab": {
          "base_uri": "https://localhost:8080/"
        },
        "id": "pmvwRE-QcCqZ",
        "outputId": "8bd64c05-0043-4674-9ce0-d946567719a7"
      },
      "execution_count": null,
      "outputs": [
        {
          "output_type": "stream",
          "name": "stdout",
          "text": [
            "# of Hours\tFee\n",
            "1\t\t10.0\n",
            "2\t\t10.0\n",
            "3\t\t12.5\n",
            "4\t\t15.0\n",
            "5\t\t17.5\n",
            "6\t\t20.0\n",
            "7\t\t20.0\n",
            "8\t\t20.0\n"
          ]
        }
      ]
    },
    {
      "cell_type": "markdown",
      "source": [
        "**In Class Assignment 9/18:**"
      ],
      "metadata": {
        "id": "JxgCAbn6ut3n"
      }
    },
    {
      "cell_type": "code",
      "source": [
        "for adCost in range(0,201,25):\n",
        "\n",
        "  AA = 2*((adCost)**(.5))\n",
        "  Profit = ((AA+20)*10) - 200 - adCost\n",
        "\n",
        "  print(f'{adCost}\\t\\t{round(Profit)}')\n"
      ],
      "metadata": {
        "colab": {
          "base_uri": "https://localhost:8080/"
        },
        "id": "GST5hXZau1Pe",
        "outputId": "67fc30d7-31b3-4b1f-fa35-e3dc8ea993a7"
      },
      "execution_count": null,
      "outputs": [
        {
          "output_type": "stream",
          "name": "stdout",
          "text": [
            "0\t\t0\n",
            "25\t\t75\n",
            "50\t\t91\n",
            "75\t\t98\n",
            "100\t\t100\n",
            "125\t\t99\n",
            "150\t\t95\n",
            "175\t\t90\n",
            "200\t\t83\n"
          ]
        }
      ]
    },
    {
      "cell_type": "markdown",
      "source": [
        "**In Class Assignment Append Items to list 9/25:**"
      ],
      "metadata": {
        "id": "cqgaJ8usyROb"
      }
    },
    {
      "cell_type": "code",
      "source": [
        "L=[]\n",
        "X = int(input(\"Input Numerical Value:\"))\n",
        "while int(X) != 0:\n",
        "  L.append(X)\n",
        "  X = int(input(\"Input Another Numerical Value:\"))\n",
        "(L.sort(reverse=True))\n",
        "print(L)\n",
        "\n"
      ],
      "metadata": {
        "colab": {
          "base_uri": "https://localhost:8080/"
        },
        "id": "GgMPHTFeybVh",
        "outputId": "52b8c2e3-6d8e-4379-aaf0-5c3984fb80fc"
      },
      "execution_count": 14,
      "outputs": [
        {
          "output_type": "stream",
          "name": "stdout",
          "text": [
            "Input Numerical Value:7\n",
            "Input Another Numerical Value:2\n",
            "Input Another Numerical Value:8\n",
            "Input Another Numerical Value:5\n",
            "Input Another Numerical Value:1\n",
            "Input Another Numerical Value:0\n",
            "[8, 7, 5, 2, 1]\n"
          ]
        }
      ]
    },
    {
      "cell_type": "code",
      "source": [
        "max(L)"
      ],
      "metadata": {
        "colab": {
          "base_uri": "https://localhost:8080/"
        },
        "id": "2TuA0Ktb4WBe",
        "outputId": "69113b7b-5da3-4d03-b266-d0db981f9beb"
      },
      "execution_count": 15,
      "outputs": [
        {
          "output_type": "execute_result",
          "data": {
            "text/plain": [
              "8"
            ]
          },
          "metadata": {},
          "execution_count": 15
        }
      ]
    },
    {
      "cell_type": "code",
      "source": [
        "min(L)"
      ],
      "metadata": {
        "colab": {
          "base_uri": "https://localhost:8080/"
        },
        "id": "nLVqLM7K4aHM",
        "outputId": "e622cd6f-f29b-4b55-9e52-5eae8bcac226"
      },
      "execution_count": 16,
      "outputs": [
        {
          "output_type": "execute_result",
          "data": {
            "text/plain": [
              "1"
            ]
          },
          "metadata": {},
          "execution_count": 16
        }
      ]
    },
    {
      "cell_type": "code",
      "source": [
        "sum(L)/len(L)"
      ],
      "metadata": {
        "colab": {
          "base_uri": "https://localhost:8080/"
        },
        "id": "cd7ldnmw4dmG",
        "outputId": "a2046585-09a5-4d31-aaeb-f1b6e5131ffd"
      },
      "execution_count": 17,
      "outputs": [
        {
          "output_type": "execute_result",
          "data": {
            "text/plain": [
              "4.6"
            ]
          },
          "metadata": {},
          "execution_count": 17
        }
      ]
    }
  ]
}