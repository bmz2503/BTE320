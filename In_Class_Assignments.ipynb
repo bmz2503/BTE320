{
  "nbformat": 4,
  "nbformat_minor": 0,
  "metadata": {
    "colab": {
      "provenance": [],
      "authorship_tag": "ABX9TyMtwRRPulqGDrg52CjeTif3",
      "include_colab_link": true
    },
    "kernelspec": {
      "name": "python3",
      "display_name": "Python 3"
    },
    "language_info": {
      "name": "python"
    }
  },
  "cells": [
    {
      "cell_type": "markdown",
      "metadata": {
        "id": "view-in-github",
        "colab_type": "text"
      },
      "source": [
        "<a href=\"https://colab.research.google.com/github/bmz2503/BTE320/blob/main/In_Class_Assignments.ipynb\" target=\"_parent\"><img src=\"https://colab.research.google.com/assets/colab-badge.svg\" alt=\"Open In Colab\"/></a>"
      ]
    },
    {
      "cell_type": "markdown",
      "source": [
        "In Class Assignment 9/2"
      ],
      "metadata": {
        "id": "NbJQg0lTm2sO"
      }
    },
    {
      "cell_type": "code",
      "source": [
        "sales = float(input(\"Enter Sales ($): \"))\n",
        "cog = 0.4\n",
        "cog_sold = sales * cog\n",
        "print(f'Cog sold: ${cog_sold}')\n",
        "gross_profit = sales - (cog * Sales)\n",
        "print(f'Gross profit: ${gross_profit}')\n",
        "\n",
        "\n",
        "tax_rate = float(input('Enter Tax Rate: '))\n",
        "taxes = gross_profit * tax_rate\n",
        "print(f\"Taxes: ${taxes}\")\n",
        "\n",
        "Net_Income = gross_profit - taxes\n",
        "print(f\"Net Income:{Net_Income}\" )\n"
      ],
      "metadata": {
        "colab": {
          "base_uri": "https://localhost:8080/"
        },
        "id": "DH7Cwg3jbjG2",
        "outputId": "051a8d7f-8116-4319-cc04-c0a131ba46ba"
      },
      "execution_count": null,
      "outputs": [
        {
          "output_type": "stream",
          "name": "stdout",
          "text": [
            "Enter Sales ($): 12000\n",
            "Cog sold: $4800.0\n",
            "Gross profit: $7200.0\n",
            "Enter Tax Rate: .30\n",
            "Taxes: $2160.0\n",
            "Net Income:5040.0\n"
          ]
        }
      ]
    },
    {
      "cell_type": "markdown",
      "source": [
        "**In Class Assignement 9/4: Inventory Management**"
      ],
      "metadata": {
        "id": "gAQIquLCnAHU"
      }
    },
    {
      "cell_type": "code",
      "source": [
        "# Define inputs\n",
        "D = int(input(\"Enter Annual Demand (units/year):\"))\n",
        "S = float(input(\"Enter Reorder Cost ($/unit):\"))\n",
        "H = float(input(\"Enter Holding Cost ($/unit/year):\"))\n",
        "\n",
        "# process Calulate EOQ\n",
        "EOQ = float(((2*D*S/H)**.5))\n",
        "\n",
        "# Output: Display EOQ Value\n",
        "print(f\"Economic order Quantity = {EOQ} units\")"
      ],
      "metadata": {
        "colab": {
          "base_uri": "https://localhost:8080/"
        },
        "id": "jWLgp0JwnCoQ",
        "outputId": "d89f160d-ca82-4b5c-b276-4e8625b55fbe"
      },
      "execution_count": 5,
      "outputs": [
        {
          "output_type": "stream",
          "name": "stdout",
          "text": [
            "Enter Annual Demand (units/year):100\n",
            "Enter Reorder Cost ($/unit):1.5\n",
            "Enter Holding Cost ($/unit/year):3\n",
            "Economic order Quantity = 10.0 units\n"
          ]
        }
      ]
    }
  ]
}